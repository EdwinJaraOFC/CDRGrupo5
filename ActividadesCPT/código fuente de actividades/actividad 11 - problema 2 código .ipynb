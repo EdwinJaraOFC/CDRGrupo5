{
  "nbformat": 4,
  "nbformat_minor": 0,
  "metadata": {
    "colab": {
      "provenance": []
    },
    "kernelspec": {
      "name": "python3",
      "display_name": "Python 3"
    },
    "language_info": {
      "name": "python"
    }
  },
  "cells": [
    {
      "cell_type": "code",
      "execution_count": 1,
      "metadata": {
        "id": "8TwUtyi0B1Tm"
      },
      "outputs": [],
      "source": [
        "class VideoCache:\n",
        "  def __init__(self):\n",
        "    self.cache = {\"perrito\":\"video de un perrito corriendo\"}\n",
        "  def get_video(self, video_id):\n",
        "    if video_id in self.cache: # verificación de si el video se encuentra en el caché\n",
        "      print(f\"Video {video_id} retrieved from cache\")\n",
        "      print(self.cache) # imprimimos el diccionario de nuestro caché para confimara que se encuentre la información del video dentro\n",
        "      return self.cache[video_id]\n",
        "    else:\n",
        "      print(f\"Video {video_id} not in cache, downloading...\") # se simula la descarga del video una vez no encontrado en nuestro caché\n",
        "      video_data = self.download_video(video_id)\n",
        "      self.cache[video_id] = video_data\n",
        "      grafo = {\n",
        "    '192.168.1.1': {'or': 11},\n",
        "    '192.168.2.1': {'or': 3},\n",
        "    '192.168.3.1': {'or': 7},\n",
        "    'or':   {'192.168.1.1':11,'192.168.2.1':3,'192.168.3.1':7}\n",
        "    }\n",
        "      anycast = AnycastService()\n",
        "      s, distancia, previos = anycast.dijkstra(grafo,\"or\")\n",
        "      print(f\"Se ha recibido el mensaje de {s[1]}\")\n",
        "\n",
        "\n",
        "      return video_data\n",
        "\n",
        "  def download_video(self, video_id):\n",
        "\n",
        "    return f\"Video data for {video_id}\""
      ]
    },
    {
      "cell_type": "code",
      "source": [
        "# Ejemplo de uso\n",
        "#con el caché vacío\n",
        "cache = VideoCache()\n",
        "video = cache.get_video(\"video1234\")\n",
        "print(video)"
      ],
      "metadata": {
        "colab": {
          "base_uri": "https://localhost:8080/"
        },
        "id": "AA7p3gKyETPR",
        "outputId": "2f32db30-8918-404f-936d-7e575017969e"
      },
      "execution_count": null,
      "outputs": [
        {
          "output_type": "stream",
          "name": "stdout",
          "text": [
            "Video video1234 not in cache, downloading...\n",
            "Se ha recibido el mensaje de 192.168.2.1\n",
            "Video data for video1234\n"
          ]
        }
      ]
    },
    {
      "cell_type": "code",
      "source": [
        "video = cache.get_video(\"video1234\") # en esta línea, volvemos a solicitar el video, pero\n",
        "                                     #esta vez, ya se encuentra guardado en el caché, por lo que se obtiene directamente de ahí"
      ],
      "metadata": {
        "colab": {
          "base_uri": "https://localhost:8080/"
        },
        "id": "XxkPJLtJOAWG",
        "outputId": "a66619c7-6bc7-4cda-cf02-f7c2069b8fe8"
      },
      "execution_count": null,
      "outputs": [
        {
          "output_type": "stream",
          "name": "stdout",
          "text": [
            "Video video1234 retrieved from cache\n",
            "{'perrito': 'video de un perrito corriendo', 'video1234': 'Video data for video1234'}\n"
          ]
        }
      ]
    },
    {
      "cell_type": "code",
      "source": [
        "cache = VideoCache()\n",
        "video = cache.get_video(\"perrito\")\n",
        "print(video)"
      ],
      "metadata": {
        "colab": {
          "base_uri": "https://localhost:8080/"
        },
        "id": "mMHTnIknODgw",
        "outputId": "46c48115-eb71-4ae3-83b1-3c91df1fcb53"
      },
      "execution_count": null,
      "outputs": [
        {
          "output_type": "stream",
          "name": "stdout",
          "text": [
            "Video perrito retrieved from cache\n",
            "{'perrito': 'video de un perrito corriendo'}\n",
            "video de un perrito corriendo\n"
          ]
        }
      ]
    },
    {
      "cell_type": "code",
      "source": [
        "import random\n",
        "class AnycastService:\n",
        "  def __init__(self):\n",
        "     self.servers = ['192.168.1.1', '192.168.2.1', '192.168.3.1']\n",
        "  def dijkstra(self,Grafo, salida):\n",
        "    dist, prev = {}, {}\n",
        "    result = []\n",
        "\n",
        "    for vertice in Grafo:\n",
        "        dist[vertice] = float(\"inf\")\n",
        "        prev[vertice] = None\n",
        "    dist[salida] = 0\n",
        "\n",
        "    Q = [vertice for vertice in Grafo]\n",
        "\n",
        "    while Q:\n",
        "        u = min(Q, key=dist.get)\n",
        "        Q.remove(u)\n",
        "        result.append(u)\n",
        "\n",
        "        for vecino in Grafo[u]:\n",
        "            if vecino in Q and dist[vecino] > dist[u] + Grafo[u][vecino]:\n",
        "                dist[vecino] = dist[u] + Grafo[u][vecino]\n",
        "                prev[vecino] = u\n",
        "\n",
        "    return result, dist, prev\n",
        "grafo = {\n",
        "    '192.168.1.1': {'or': 4},\n",
        "    '192.168.2.1': {'or': 5},\n",
        "    '192.168.3.1': {'or': 2},\n",
        "    'or':   {'192.168.1.1':4,'192.168.2.1':5,'192.168.3.1':2}\n",
        "    }\n",
        "anycast = AnycastService()\n",
        "s, distancia, previos = anycast.dijkstra(grafo,\"or\")\n",
        "print(f\"Nearest server for user is {s[1]}\")"
      ],
      "metadata": {
        "colab": {
          "base_uri": "https://localhost:8080/"
        },
        "id": "zr4KiWICUysC",
        "outputId": "e0883b08-db9e-4845-882f-53741eb77de6"
      },
      "execution_count": null,
      "outputs": [
        {
          "output_type": "stream",
          "name": "stdout",
          "text": [
            "Nearest server for user is 192.168.3.1\n"
          ]
        }
      ]
    }
  ]
}